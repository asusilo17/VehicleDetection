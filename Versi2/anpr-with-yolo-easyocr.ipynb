{
 "cells": [
  {
   "cell_type": "code",
   "execution_count": null,
   "id": "55a4ce0e",
   "metadata": {
    "_cell_guid": "b1076dfc-b9ad-4769-8c92-a6c4dae69d19",
    "_uuid": "8f2839f25d086af736a60e9eeb907d3b93b6e0e5",
    "execution": {
     "iopub.execute_input": "2023-05-18T05:13:34.726057Z",
     "iopub.status.busy": "2023-05-18T05:13:34.725646Z",
     "iopub.status.idle": "2023-05-18T05:13:35.321836Z",
     "shell.execute_reply": "2023-05-18T05:13:35.320953Z"
    },
    "papermill": {
     "duration": 0.609362,
     "end_time": "2023-05-18T05:13:35.325220",
     "exception": false,
     "start_time": "2023-05-18T05:13:34.715858",
     "status": "completed"
    },
    "tags": []
   },
   "outputs": [],
   "source": [
    "# This Python 3 environment comes with many helpful analytics libraries installed\n",
    "# It is defined by the kaggle/python Docker image: https://github.com/kaggle/docker-python\n",
    "# For example, here's several helpful packages to load\n",
    "\n",
    "import numpy as np # linear algebra\n",
    "import pandas as pd # data processing, CSV file I/O (e.g. pd.read_csv)\n",
    "\n",
    "# Input data files are available in the read-only \"../input/\" directory\n",
    "# For example, running this (by clicking run or pressing Shift+Enter) will list all files under the input directory\n",
    "\n",
    "import os\n",
    "for dirname, _, filenames in os.walk('/kaggle/input'):\n",
    "    for filename in filenames:\n",
    "        print(os.path.join(dirname, filename))\n",
    "\n",
    "# You can write up to 20GB to the current directory (/kaggle/working/) that gets preserved as output when you create a version using \"Save & Run All\" \n",
    "# You can also write temporary files to /kaggle/temp/, but they won't be saved outside of the current session"
   ]
  },
  {
   "cell_type": "code",
   "execution_count": null,
   "id": "ee5d4210",
   "metadata": {
    "execution": {
     "iopub.execute_input": "2023-05-18T05:13:35.346699Z",
     "iopub.status.busy": "2023-05-18T05:13:35.345384Z",
     "iopub.status.idle": "2023-05-18T05:13:35.574971Z",
     "shell.execute_reply": "2023-05-18T05:13:35.573646Z"
    },
    "papermill": {
     "duration": 0.242912,
     "end_time": "2023-05-18T05:13:35.577624",
     "exception": false,
     "start_time": "2023-05-18T05:13:35.334712",
     "status": "completed"
    },
    "tags": []
   },
   "outputs": [],
   "source": [
    "# Import Libraries\n",
    "\n",
    "from pathlib import Path\n",
    "import shutil\n",
    "from bs4 import BeautifulSoup\n",
    "import os"
   ]
  },
  {
   "cell_type": "markdown",
   "id": "58c5f00e",
   "metadata": {
    "papermill": {
     "duration": 0.009251,
     "end_time": "2023-05-18T05:13:35.596234",
     "exception": false,
     "start_time": "2023-05-18T05:13:35.586983",
     "status": "completed"
    },
    "tags": []
   },
   "source": [
    "# Automatic Number Plate Reconigtion (ANPR)\n",
    "1. Survey the dataset (image, annotations)\n",
    "2. Combine multiple dataset to create a large number plate dataset for training data\n",
    "3. Train Yolo model to recognize the correct bounding box the each car in an image\n",
    "4. Use EasyOCR to extract number from car plate. Used OpenCV to visualize extracted result.\n",
    "5. Apply ANPR on a video and save results to file"
   ]
  },
  {
   "cell_type": "markdown",
   "id": "6c6361d6",
   "metadata": {
    "papermill": {
     "duration": 0.008841,
     "end_time": "2023-05-18T05:13:35.614387",
     "exception": false,
     "start_time": "2023-05-18T05:13:35.605546",
     "status": "completed"
    },
    "tags": []
   },
   "source": [
    "## 1. Survey the dataset\n",
    "### Take a look at a sample. \n",
    "Load an image to their labels. I have drawn the image bounding box in green and its center in red"
   ]
  },
  {
   "cell_type": "code",
   "execution_count": null,
   "id": "30c4a7d7",
   "metadata": {
    "execution": {
     "iopub.execute_input": "2023-05-18T05:13:35.634859Z",
     "iopub.status.busy": "2023-05-18T05:13:35.634096Z",
     "iopub.status.idle": "2023-05-18T05:13:36.364281Z",
     "shell.execute_reply": "2023-05-18T05:13:36.362916Z"
    },
    "papermill": {
     "duration": 0.744822,
     "end_time": "2023-05-18T05:13:36.368288",
     "exception": false,
     "start_time": "2023-05-18T05:13:35.623466",
     "status": "completed"
    },
    "tags": []
   },
   "outputs": [],
   "source": [
    "import cv2 as cv\n",
    "import matplotlib.pyplot as plt\n",
    "\n",
    "img = cv.imread('/kaggle/input/car-plate-detection/images/Cars0.png')\n",
    "img = cv.cvtColor(img, cv.COLOR_BGR2RGB)\n",
    "\n",
    "rec = cv.rectangle(img, (226,125), (419,173), (0,250,0),2)\n",
    "rec = cv.circle(rec, ((226+419)//2,(125+173)//2), 2, (255,0,0),2)\n",
    "plt.imshow(rec)"
   ]
  },
  {
   "cell_type": "markdown",
   "id": "a1b1ad88",
   "metadata": {
    "papermill": {
     "duration": 0.012097,
     "end_time": "2023-05-18T05:13:36.393275",
     "exception": false,
     "start_time": "2023-05-18T05:13:36.381178",
     "status": "completed"
    },
    "tags": []
   },
   "source": [
    "## 2. Create Dataset\n",
    "\n",
    "Since I am going to use Yolo model. I need to do some data preparation before training\n",
    "\n",
    "Some requirements for data:\n",
    "\n",
    "**1. dataset.yaml**\n",
    "\n",
    "```python\n",
    "\n",
    "# Train/val/test sets as 1) dir: path/to/imgs, 2) file: path/to/imgs.txt, or 3) list: [path/to/imgs1, path/to/imgs2, ..]\n",
    "path: ../datasets/coco128  # dataset root dir  \n",
    "train: images/train2017  # (relative to 'path')\n",
    "val: images/train2017  # (relative to 'path')  \n",
    "test:  # (optional)\n",
    "    \n",
    "# Classes\n",
    "names:  \n",
    "  0: person  \n",
    "  1: bicycle  \n",
    "  2: car  \n",
    "  ...\n",
    "```\n",
    "\n",
    "**2. label.txt**\n",
    "\n",
    "One *.txt file per image (if no objects in image, no *.txt file is required). The *.txt file specifications are:\n",
    "* One row per object\n",
    "* Each row have the following format (seperate by space):  ```class x_center y_center width height```\n",
    "* Box coordinates (xywh) must be normalized (between 0 and 1). If your boxes are in pixels, divide ```x_center``` and ```width``` by ```image width```, and ```y_center``` and ```height``` by ```image height```.\n",
    "* Class numbers are zero-indexed (start from 0)\n",
    "\n",
    "<img src=\"https://user-images.githubusercontent.com/26833433/112467037-d2568c00-8d66-11eb-8796-55402ac0d62f.png\" alt= \"label example\" width=400 height=200>\n",
    "\n",
    "**3. Directories organization**\n",
    "\n",
    "<img src=\"https://user-images.githubusercontent.com/26833433/134436012-65111ad1-9541-4853-81a6-f19a3468b75f.png\" alt= \"directories example\" width=600 height=500>"
   ]
  },
  {
   "cell_type": "code",
   "execution_count": null,
   "id": "9c31547d",
   "metadata": {
    "execution": {
     "iopub.execute_input": "2023-05-18T05:13:36.420642Z",
     "iopub.status.busy": "2023-05-18T05:13:36.419842Z",
     "iopub.status.idle": "2023-05-18T05:13:36.435586Z",
     "shell.execute_reply": "2023-05-18T05:13:36.434568Z"
    },
    "papermill": {
     "duration": 0.032356,
     "end_time": "2023-05-18T05:13:36.438106",
     "exception": false,
     "start_time": "2023-05-18T05:13:36.405750",
     "status": "completed"
    },
    "tags": []
   },
   "outputs": [],
   "source": [
    "def normalized_coordinates(filename, width, height, xmin, ymin, xmax, ymax):\n",
    "    \"\"\"Take in image coordinates (unnormalized) as input, return normalized values \n",
    "    \"\"\"\n",
    "    \n",
    "    xmin, xmax = xmin / width, xmax / width\n",
    "    ymin, ymax = ymin / height, ymax/ height\n",
    "\n",
    "    width = xmax-xmin\n",
    "    height = ymax-ymin\n",
    "    x_center = xmin + (width / 2)\n",
    "    y_center = ymin + (height / 2)\n",
    "\n",
    "    return x_center, y_center, width, height\n",
    "\n",
    "def write_label(filename, x_center, y_center, width, height):\n",
    "    \"\"\"Save image's coordinates in text file named \"filename\"\n",
    "    \"\"\"\n",
    "    with open(filename, mode='w') as outf:\n",
    "        outf.write(f\"{0} {x_center} {y_center} {width} {height}\\n\")\n",
    "\n",
    "def parse_xml_tags(data):\n",
    "    \"\"\"Parse xml label file, return image file name, and its coordinates as a dictionary\n",
    "    \"\"\"\n",
    "    tags = ['filename', 'width', 'height', 'xmin', 'ymin', 'xmax', 'ymax']\n",
    "    Bs_data = BeautifulSoup(data, \"xml\")\n",
    "    d = dict()\n",
    "\n",
    "    for t in tags:\n",
    "        text = Bs_data.find(t).text\n",
    "        if all(c.isdigit() for c in text):\n",
    "            d[t] = int(text)\n",
    "        else:\n",
    "            d[t] = text\n",
    "    return d\n",
    "\n",
    "def build_data(dir_folder, ann_file_list, img_dir):\n",
    "    \"\"\"Write xml labels to text file with specifications format, save at 'labels' folder.\n",
    "        Move image to 'images' folder\n",
    "    \"\"\"\n",
    "    images_folder = f\"{dir_folder}/images\"\n",
    "    labels_folder = f\"{dir_folder}/labels\"\n",
    "    \n",
    "    os.makedirs(images_folder, exist_ok = True)\n",
    "    os.makedirs(labels_folder, exist_ok = True)\n",
    "\n",
    "\n",
    "    for ann_file in ann_file_list:\n",
    "        with open(ann_file, 'r') as f:\n",
    "            label = parse_xml_tags(f.read())\n",
    "         \n",
    "        img_file_name = label['filename']\n",
    "        x_center, y_center, width, height = normalized_coordinates(**label)\n",
    "         \n",
    "        # save at 'labels' folder\n",
    "        write_label(f\"{labels_folder}/{img_file_name.split('.')[0]}.txt\", x_center, y_center, width, height)\n",
    "         \n",
    "         # Move image to 'images' folder\n",
    "        shutil.copy(f\"{img_dir}/{img_file_name}\", f\"{images_folder}/{img_file_name}\")"
   ]
  },
  {
   "cell_type": "code",
   "execution_count": null,
   "id": "8773712b",
   "metadata": {
    "execution": {
     "iopub.execute_input": "2023-05-18T05:13:36.465142Z",
     "iopub.status.busy": "2023-05-18T05:13:36.464451Z",
     "iopub.status.idle": "2023-05-18T05:13:51.179528Z",
     "shell.execute_reply": "2023-05-18T05:13:51.178471Z"
    },
    "papermill": {
     "duration": 14.731831,
     "end_time": "2023-05-18T05:13:51.182218",
     "exception": false,
     "start_time": "2023-05-18T05:13:36.450387",
     "status": "completed"
    },
    "tags": []
   },
   "outputs": [],
   "source": [
    "import glob\n",
    "dir_folder = \"/kaggle/working/plate_datasets\"\n",
    "\n",
    "ann_list = glob.glob('/kaggle/input/car-plate-detection/annotations/*')\n",
    "build_data(dir_folder, ann_list, \"/kaggle/input/car-plate-detection/images\")\n",
    "\n",
    "ann_list = glob.glob('/kaggle/input/number-plate-detection/images/*.xml')\n",
    "build_data(dir_folder, ann_list, \"/kaggle/input/number-plate-detection/images\")"
   ]
  },
  {
   "cell_type": "code",
   "execution_count": null,
   "id": "f1ac6896",
   "metadata": {
    "execution": {
     "iopub.execute_input": "2023-05-18T05:13:51.209301Z",
     "iopub.status.busy": "2023-05-18T05:13:51.208178Z",
     "iopub.status.idle": "2023-05-18T05:13:51.240651Z",
     "shell.execute_reply": "2023-05-18T05:13:51.239341Z"
    },
    "papermill": {
     "duration": 0.049037,
     "end_time": "2023-05-18T05:13:51.243521",
     "exception": false,
     "start_time": "2023-05-18T05:13:51.194484",
     "status": "completed"
    },
    "tags": []
   },
   "outputs": [],
   "source": [
    "import yaml\n",
    "\n",
    "data = {\n",
    "    \"path\": dir_folder,\n",
    "    \"train\": \"images\",\n",
    "    \"val\": \"\",\n",
    "    \"names\": {0: \"car_lisence_plate\"}\n",
    "    }\n",
    "\n",
    "with open('/kaggle/working/plate_datasets/dataset.yaml', 'w') as outfile:\n",
    "    yaml.dump(data, outfile, default_flow_style=False)\n",
    "    \n",
    "# path: /content/plate_data  # dataset root dir\n",
    "# train: /content/plate_data/train/images  # (relative to 'path')\n",
    "# val: /content/plate_data/val/images  # (relative to 'path')\n",
    "# test:  # test images (optional)\n",
    "\n",
    "# names:\n",
    "#   0: no_car_plate\n",
    "#   1: car_lisence_plate\n",
    "#   2: car\n",
    "\n"
   ]
  },
  {
   "cell_type": "code",
   "execution_count": null,
   "id": "deb89a1e",
   "metadata": {
    "execution": {
     "iopub.execute_input": "2023-05-18T05:13:51.270602Z",
     "iopub.status.busy": "2023-05-18T05:13:51.269429Z",
     "iopub.status.idle": "2023-05-18T05:13:51.275738Z",
     "shell.execute_reply": "2023-05-18T05:13:51.274845Z"
    },
    "papermill": {
     "duration": 0.022073,
     "end_time": "2023-05-18T05:13:51.277989",
     "exception": false,
     "start_time": "2023-05-18T05:13:51.255916",
     "status": "completed"
    },
    "tags": []
   },
   "outputs": [],
   "source": [
    "assert len(os.listdir(\"/kaggle/working/plate_datasets/labels\")) == len(os.listdir(\"/kaggle/working/plate_datasets/images\"))"
   ]
  },
  {
   "cell_type": "markdown",
   "id": "660819f7",
   "metadata": {
    "papermill": {
     "duration": 0.01555,
     "end_time": "2023-05-18T05:13:51.305706",
     "exception": false,
     "start_time": "2023-05-18T05:13:51.290156",
     "status": "completed"
    },
    "tags": []
   },
   "source": [
    "## 3. Train plate recognition model \n",
    "### Install model"
   ]
  },
  {
   "cell_type": "code",
   "execution_count": null,
   "id": "2dc71201",
   "metadata": {
    "execution": {
     "iopub.execute_input": "2023-05-18T05:13:51.334462Z",
     "iopub.status.busy": "2023-05-18T05:13:51.333430Z",
     "iopub.status.idle": "2023-05-18T05:14:34.227700Z",
     "shell.execute_reply": "2023-05-18T05:14:34.226111Z"
    },
    "papermill": {
     "duration": 42.910916,
     "end_time": "2023-05-18T05:14:34.230613",
     "exception": false,
     "start_time": "2023-05-18T05:13:51.319697",
     "status": "completed"
    },
    "tags": []
   },
   "outputs": [],
   "source": [
    "!git clone https://github.com/ultralytics/yolov5  # clone\n",
    "%cd yolov5\n",
    "!pip install -r requirements.txt"
   ]
  },
  {
   "cell_type": "markdown",
   "id": "fb4246c7",
   "metadata": {
    "papermill": {
     "duration": 0.019467,
     "end_time": "2023-05-18T05:14:34.270012",
     "exception": false,
     "start_time": "2023-05-18T05:14:34.250545",
     "status": "completed"
    },
    "tags": []
   },
   "source": [
    "### Train model"
   ]
  },
  {
   "cell_type": "code",
   "execution_count": null,
   "id": "1b68bc42",
   "metadata": {
    "execution": {
     "iopub.execute_input": "2023-05-18T05:14:34.312994Z",
     "iopub.status.busy": "2023-05-18T05:14:34.312519Z",
     "iopub.status.idle": "2023-05-18T07:11:20.597714Z",
     "shell.execute_reply": "2023-05-18T07:11:20.595137Z"
    },
    "papermill": {
     "duration": 7006.311224,
     "end_time": "2023-05-18T07:11:20.601318",
     "exception": false,
     "start_time": "2023-05-18T05:14:34.290094",
     "status": "completed"
    },
    "tags": []
   },
   "outputs": [],
   "source": [
    "!python train.py --img 640 --batch 16 --epochs 15 --data /kaggle/working/plate_datasets/dataset.yaml --weights yolov5s.pt --cache ram"
   ]
  },
  {
   "cell_type": "markdown",
   "id": "ef7728d3",
   "metadata": {
    "papermill": {
     "duration": 0.089246,
     "end_time": "2023-05-18T07:11:20.781578",
     "exception": false,
     "start_time": "2023-05-18T07:11:20.692332",
     "status": "completed"
    },
    "tags": []
   },
   "source": [
    "### Load trained model"
   ]
  },
  {
   "cell_type": "code",
   "execution_count": null,
   "id": "d750d68c",
   "metadata": {
    "execution": {
     "iopub.execute_input": "2023-05-18T07:11:20.963735Z",
     "iopub.status.busy": "2023-05-18T07:11:20.963193Z",
     "iopub.status.idle": "2023-05-18T07:11:30.755818Z",
     "shell.execute_reply": "2023-05-18T07:11:30.754664Z"
    },
    "papermill": {
     "duration": 9.888552,
     "end_time": "2023-05-18T07:11:30.758660",
     "exception": false,
     "start_time": "2023-05-18T07:11:20.870108",
     "status": "completed"
    },
    "tags": []
   },
   "outputs": [],
   "source": [
    "import torch\n",
    "\n",
    "yolo = torch.hub.load('ultralytics/yolov5', 'custom', path='/kaggle/working/yolov5/runs/train/exp/weights/best.pt')"
   ]
  },
  {
   "cell_type": "markdown",
   "id": "530b4dde",
   "metadata": {
    "papermill": {
     "duration": 0.08817,
     "end_time": "2023-05-18T07:11:30.936275",
     "exception": false,
     "start_time": "2023-05-18T07:11:30.848105",
     "status": "completed"
    },
    "tags": []
   },
   "source": [
    "### Inference"
   ]
  },
  {
   "cell_type": "code",
   "execution_count": null,
   "id": "b81e7421",
   "metadata": {
    "execution": {
     "iopub.execute_input": "2023-05-18T07:11:31.121516Z",
     "iopub.status.busy": "2023-05-18T07:11:31.120143Z",
     "iopub.status.idle": "2023-05-18T07:11:31.455303Z",
     "shell.execute_reply": "2023-05-18T07:11:31.453706Z"
    },
    "papermill": {
     "duration": 0.431976,
     "end_time": "2023-05-18T07:11:31.458948",
     "exception": false,
     "start_time": "2023-05-18T07:11:31.026972",
     "status": "completed"
    },
    "tags": []
   },
   "outputs": [],
   "source": [
    "img = '/kaggle/input/number-plate-detection/TEST/TEST.jpeg'\n",
    "\n",
    "# Inference\n",
    "results = yolo(img)\n",
    "\n",
    "cordinates = results.xyxy[0][:, :-1]\n",
    "results.pandas().xyxy[0]"
   ]
  },
  {
   "cell_type": "markdown",
   "id": "ef6adbc9",
   "metadata": {
    "papermill": {
     "duration": 0.091004,
     "end_time": "2023-05-18T07:11:31.642034",
     "exception": false,
     "start_time": "2023-05-18T07:11:31.551030",
     "status": "completed"
    },
    "tags": []
   },
   "source": [
    "## 4. Extract Number Plate"
   ]
  },
  {
   "cell_type": "markdown",
   "id": "def4f761",
   "metadata": {
    "papermill": {
     "duration": 0.093763,
     "end_time": "2023-05-18T07:11:31.832689",
     "exception": false,
     "start_time": "2023-05-18T07:11:31.738926",
     "status": "completed"
    },
    "tags": []
   },
   "source": [
    "### Install EasyOCR"
   ]
  },
  {
   "cell_type": "code",
   "execution_count": null,
   "id": "38d89f1f",
   "metadata": {
    "execution": {
     "iopub.execute_input": "2023-05-18T07:11:32.021892Z",
     "iopub.status.busy": "2023-05-18T07:11:32.021189Z",
     "iopub.status.idle": "2023-05-18T07:11:48.055762Z",
     "shell.execute_reply": "2023-05-18T07:11:48.053956Z"
    },
    "papermill": {
     "duration": 16.134328,
     "end_time": "2023-05-18T07:11:48.058621",
     "exception": false,
     "start_time": "2023-05-18T07:11:31.924293",
     "status": "completed"
    },
    "tags": []
   },
   "outputs": [],
   "source": [
    "!pip install easyocr -qq"
   ]
  },
  {
   "cell_type": "markdown",
   "id": "cf85c9c1",
   "metadata": {
    "papermill": {
     "duration": 0.092448,
     "end_time": "2023-05-18T07:11:48.241113",
     "exception": false,
     "start_time": "2023-05-18T07:11:48.148665",
     "status": "completed"
    },
    "tags": []
   },
   "source": [
    "### Read Plate Number"
   ]
  },
  {
   "cell_type": "code",
   "execution_count": 2,
   "id": "ec4f6b58",
   "metadata": {
    "execution": {
     "iopub.execute_input": "2023-05-18T07:11:48.443121Z",
     "iopub.status.busy": "2023-05-18T07:11:48.441684Z",
     "iopub.status.idle": "2023-05-18T07:11:48.456267Z",
     "shell.execute_reply": "2023-05-18T07:11:48.454925Z"
    },
    "papermill": {
     "duration": 0.118792,
     "end_time": "2023-05-18T07:11:48.458840",
     "exception": false,
     "start_time": "2023-05-18T07:11:48.340048",
     "status": "completed"
    },
    "tags": []
   },
   "outputs": [],
   "source": [
    "def read_plate_number(results, frame, reader):\n",
    "    n = len(results)\n",
    "    x_shape, y_shape = frame.shape[1], frame.shape[0]\n",
    "\n",
    "    for i in range(n):\n",
    "        row = cordinates[i] # Iterate through each image\n",
    "        if row[4] >= 0.5: ## Take img with 0.5 confidence\n",
    "            xmin, ymin, xmax, ymax = row[:4]\n",
    "            plate = frame[int(ymin):int(ymax), int(xmin):int(xmax)]\n",
    "\n",
    "            ## Preprocess Plate\n",
    "            gray = cv.cvtColor(plate, cv.COLOR_BGR2GRAY)\n",
    "            blurred = cv.bilateralFilter(gray, 17, 15, 15)\n",
    "#             ret, thresh = cv.threshold(blurred, 125, 255, cv.THRESH_BINARY)\n",
    "\n",
    "            ## OCR\n",
    "            text = reader.readtext(blurred)\n",
    "            text = ' '.join([t[1] for t in text])\n",
    "\n",
    "            plot_img = frame.copy()\n",
    "\n",
    "            cv.rectangle(plot_img, (int(xmin), int(ymin)), (int(xmax), int(ymax)), (0, 255, 0), 2) ## BBox\n",
    "            cv.rectangle(plot_img, (int(xmin), int(ymin-20)), (int(xmax), int(ymin)), (0, 255,0), -1) ## for text label background\n",
    "            final_img = cv.putText(plot_img, f\"{text}\", (int(xmin), int(ymin)), cv.FONT_HERSHEY_SIMPLEX, 1,(255,255,255), 2)\n",
    "            \n",
    "            return final_img\n",
    "\n",
    "#             return cv.cvtColor(final_img, cv.COLOR_BGR2RGB)\n",
    "#             cv.imwrite(f'/kaggle/working/labeled_img_{i}.jpg', cv.cvtColor(final_img, cv.COLOR_BGR2RGB))"
   ]
  },
  {
   "cell_type": "code",
   "execution_count": null,
   "id": "222b0dde",
   "metadata": {
    "execution": {
     "iopub.execute_input": "2023-05-18T07:11:48.644457Z",
     "iopub.status.busy": "2023-05-18T07:11:48.644038Z",
     "iopub.status.idle": "2023-05-18T07:11:53.882653Z",
     "shell.execute_reply": "2023-05-18T07:11:53.881302Z"
    },
    "papermill": {
     "duration": 5.341865,
     "end_time": "2023-05-18T07:11:53.892434",
     "exception": false,
     "start_time": "2023-05-18T07:11:48.550569",
     "status": "completed"
    },
    "tags": []
   },
   "outputs": [],
   "source": [
    "import matplotlib.pyplot as plt\n",
    "import easyocr\n",
    "%matplotlib inline\n",
    "\n",
    "reader = easyocr.Reader(['en'])\n",
    "# cordinates = cordinates.cpu().numpy()\n",
    "\n",
    "frame = cv.imread(img) ### reading the image\n",
    "frame = cv.cvtColor(frame,cv.COLOR_BGR2RGB)\n",
    "\n",
    "result_img = read_plate_number(cordinates, frame, reader)\n",
    "plt.imshow(result_img)\n",
    "plt.show();"
   ]
  }
 ],
 "metadata": {
  "kernelspec": {
   "display_name": ".venv",
   "language": "python",
   "name": "python3"
  },
  "language_info": {
   "codemirror_mode": {
    "name": "ipython",
    "version": 3
   },
   "file_extension": ".py",
   "mimetype": "text/x-python",
   "name": "python",
   "nbconvert_exporter": "python",
   "pygments_lexer": "ipython3",
   "version": "3.12.3"
  },
  "papermill": {
   "default_parameters": {},
   "duration": 7114.126035,
   "end_time": "2023-05-18T07:11:55.942201",
   "environment_variables": {},
   "exception": null,
   "input_path": "__notebook__.ipynb",
   "output_path": "__notebook__.ipynb",
   "parameters": {},
   "start_time": "2023-05-18T05:13:21.816166",
   "version": "2.4.0"
  }
 },
 "nbformat": 4,
 "nbformat_minor": 5
}
