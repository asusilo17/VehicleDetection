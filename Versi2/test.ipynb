{
 "cells": [
  {
   "cell_type": "code",
   "execution_count": 7,
   "id": "7329040e",
   "metadata": {},
   "outputs": [
    {
     "name": "stderr",
     "output_type": "stream",
     "text": [
      "[2025-07-13 21:29:26,586] [ WARNING] easyocr.py:80 - Neither CUDA nor MPS are available - defaulting to CPU. Note: This module is much faster with a GPU.\n"
     ]
    }
   ],
   "source": [
    "import cv2\n",
    "from Model import imageProcess as imp\n",
    "from Model import ocrProcess as op\n",
    "\n",
    "import cv2\n",
    "import torch\n",
    "from paddleocr import PaddleOCR\n",
    "import numpy as np\n",
    "import easyocr\n",
    "import pytesseract\n",
    "\n",
    "easy_ocr = easyocr.Reader(['en'])  # 'en' untuk bahasa Inggris"
   ]
  },
  {
   "cell_type": "code",
   "execution_count": 9,
   "id": "34792328",
   "metadata": {},
   "outputs": [
    {
     "name": "stdout",
     "output_type": "stream",
     "text": [
      "[2025/07/13 21:31:29] ppocr DEBUG: dt_boxes num : 3, elapsed : 0.06661677360534668\n",
      "[2025/07/13 21:31:29] ppocr DEBUG: cls num  : 3, elapsed : 0.007999897003173828\n",
      "[2025/07/13 21:31:29] ppocr DEBUG: rec_res num  : 3, elapsed : 0.07012343406677246\n",
      "plate number : B3284EFX\n"
     ]
    }
   ],
   "source": [
    "image = cv2.imread(\"Plate/Plat159_jpg.rf.374e29e9dfef0d668b90d5dd9e28affc.jpg\")\n",
    "\n",
    "plat_number, plat_conf = op.f_ocr_process(image)\n",
    "# plat_number, plat_conf = op.f_easyocr_process(image)\n",
    "\n",
    "print(f\"plate number : {plat_number}\")"
   ]
  },
  {
   "cell_type": "code",
   "execution_count": 8,
   "id": "55a5c4ec",
   "metadata": {},
   "outputs": [
    {
     "name": "stdout",
     "output_type": "stream",
     "text": [
      "result : [([[np.int32(133), np.int32(175)], [np.int32(638), np.int32(175)], [np.int32(638), np.int32(334)], [np.int32(133), np.int32(334)]], '928/ EF8', np.float64(0.7716032061128456)), ([[np.int32(353), np.int32(370)], [np.int32(463), np.int32(370)], [np.int32(463), np.int32(449)], [np.int32(353), np.int32(449)]], '03', np.float64(0.9784326759738196)), ([[np.int32(511), np.int32(367)], [np.int32(623), np.int32(367)], [np.int32(623), np.int32(459)], [np.int32(511), np.int32(459)]], '20', np.float64(0.9738883736950135))]\n"
     ]
    }
   ],
   "source": [
    "image = cv2.imread(\"Plate/Plat159_jpg.rf.374e29e9dfef0d668b90d5dd9e28affc.jpg\")\n",
    "\n",
    "plat_detect = \"\"\n",
    "plat_predictval = \"\"\n",
    "\n",
    "# 1. Resize (jika terlalu kecil)\n",
    "if image.shape[0] < 50 or image.shape[1] < 150:\n",
    "    image = cv2.resize(image, None, fx=2, fy=2, interpolation=cv2.INTER_CUBIC)\n",
    "\n",
    "# 2. Grayscale\n",
    "gray = cv2.cvtColor(image, cv2.COLOR_BGR2GRAY)\n",
    "\n",
    "# 3. Bilateral Filter → mengurangi noise, tapi menjaga edge\n",
    "gray = cv2.bilateralFilter(gray, 11, 17, 17)\n",
    "\n",
    "# 4. Adaptive Thresholding → lebih fleksibel dari OTSU\n",
    "thresh = cv2.adaptiveThreshold(\n",
    "    gray, 255,\n",
    "    cv2.ADAPTIVE_THRESH_GAUSSIAN_C,\n",
    "    cv2.THRESH_BINARY_INV,\n",
    "    25, 15\n",
    ")\n",
    "\n",
    "# 5. Morphological Operation (Optional)\n",
    "kernel = np.ones((2, 2), np.uint8)\n",
    "thresh = cv2.morphologyEx(thresh, cv2.MORPH_CLOSE, kernel)\n",
    "\n",
    "# 6. EasyOCR Reading\n",
    "results = easy_ocr.readtext(thresh)\n",
    "print(f\"result : {results}\")\n",
    "# if not results:\n",
    "#     print(\"Gagal dapat hasil OCR\")\n",
    "# else:\n",
    "#     # Ambil hasil dengan confidence tertinggi\n",
    "#     best_result = max(results, key=lambda r: r[2])\n",
    "#     _, text, confidence = best_result\n",
    "\n",
    "#     # plat_detect = f_remove_special_char(text)\n",
    "#     plat_predictval = confidence"
   ]
  }
 ],
 "metadata": {
  "kernelspec": {
   "display_name": ".venv",
   "language": "python",
   "name": "python3"
  },
  "language_info": {
   "codemirror_mode": {
    "name": "ipython",
    "version": 3
   },
   "file_extension": ".py",
   "mimetype": "text/x-python",
   "name": "python",
   "nbconvert_exporter": "python",
   "pygments_lexer": "ipython3",
   "version": "3.12.3"
  }
 },
 "nbformat": 4,
 "nbformat_minor": 5
}
