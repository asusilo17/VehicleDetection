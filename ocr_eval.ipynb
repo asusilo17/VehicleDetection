{
 "cells": [
  {
   "cell_type": "code",
   "execution_count": null,
   "id": "d6b8bdc0",
   "metadata": {},
   "outputs": [],
   "source": [
    "import cv2\n",
    "import torch\n",
    "from paddleocr import PaddleOCR\n",
    "import re\n",
    "import glob\n",
    "import os\n",
    "\n",
    "from Model import imageProcess as ip\n",
    "from Model import ocrProcess as op"
   ]
  },
  {
   "cell_type": "code",
   "execution_count": null,
   "id": "a8063986",
   "metadata": {},
   "outputs": [],
   "source": [
    "image_folder = 'DataTraining\\OCR'\n",
    "image_files = glob.glob(os.path.join(image_folder, '*.jpg'))\n",
    "\n",
    "file_names = [os.path.basename(file) for file in image_files]"
   ]
  },
  {
   "cell_type": "code",
   "execution_count": null,
   "id": "def8b924",
   "metadata": {},
   "outputs": [],
   "source": [
    "data = []\n",
    "\n",
    "for image in image_files:\n",
    "    img = cv2.imread(image)\n",
    "    gray = cv2.cvtColor(img, cv2.COLOR_BGR2GRAY)\n",
    "\n",
    "    plat_number, plat_conf = op.f_ocr_process(gray)\n",
    "\n",
    "    filename = os.path.splitext(os.path.basename(image))[0]\n",
    "\n",
    "    data.append({\n",
    "        \"label\": filename,\n",
    "        \"license\": plat_number\n",
    "    })\n",
    "\n",
    "    print(f\"plat_number : {plat_number}\")"
   ]
  },
  {
   "cell_type": "code",
   "execution_count": 14,
   "id": "26a67f9f",
   "metadata": {},
   "outputs": [],
   "source": [
    "with open(\"output.txt\", \"w\") as file:\n",
    "    file.write(f\"label, license\\n\")\n",
    "    for item in data:\n",
    "        file.write(f\"{item['label']},{item['license']}\\n\")"
   ]
  },
  {
   "cell_type": "code",
   "execution_count": null,
   "id": "be66cc76",
   "metadata": {},
   "outputs": [],
   "source": [
    "# data = [{\"nama\": \"ali\", \"umur\": \"23\"}, {\"nama\": \"rika\", \"umur\": \"17\"}]\n",
    "# with open(\"output.txt\", \"w\") as file:\n",
    "#     for item in data:\n",
    "#         file.write(f\"Nama: {item['label']}, Umur: {item['umur']}\\n\")"
   ]
  }
 ],
 "metadata": {
  "kernelspec": {
   "display_name": ".venv",
   "language": "python",
   "name": "python3"
  },
  "language_info": {
   "codemirror_mode": {
    "name": "ipython",
    "version": 3
   },
   "file_extension": ".py",
   "mimetype": "text/x-python",
   "name": "python",
   "nbconvert_exporter": "python",
   "pygments_lexer": "ipython3",
   "version": "3.12.0"
  }
 },
 "nbformat": 4,
 "nbformat_minor": 5
}
