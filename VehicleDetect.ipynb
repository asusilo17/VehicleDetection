import cv2
import torch
from ultralytics import YOLO
import numpy as np
from datetime import datetime
import os
import glob
from Model.imageProcess import f_image_read, f_image_preprocessing_010, f_save_image, f_imagesingle_read, f_image_box, f_image_box_license, f_image_box_license_2


YoloModelVehicle = YOLO("Yolo/yolov10n.pt")
image_folder = 'ImgVehicle'
image_files = glob.glob(os.path.join(image_folder, '*.jpg'))

for image in image_files:
    print(f"image : {image}")

    image_baca = cv2.imread(image)

    f_image_read(image1=image_baca, title1="image 1", image2=image_baca, title2="image 2")