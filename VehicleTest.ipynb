{
 "cells": [
  {
   "cell_type": "code",
   "execution_count": null,
   "id": "c3faae8d",
   "metadata": {},
   "outputs": [],
   "source": [
    "import cv2\n",
    "import torch\n",
    "from ultralytics import YOLO\n",
    "import numpy as np\n",
    "from datetime import datetime\n",
    "import os\n",
    "import glob\n",
    "from Model.imageProcess import f_image_read, f_image_preprocessing_010, f_save_image, f_imagesingle_read, f_image_box, f_image_box_license, f_image_box_license_2\n",
    "\n",
    "\n",
    "YoloModelVehicle = YOLO(\"Yolo/yolov10n.pt\")\n",
    "image_folder = 'ImgVehicle'\n",
    "image_files = glob.glob(os.path.join(image_folder, '*.jpg'))\n",
    "\n",
    "for image in image_files:\n",
    "    print(f\"image : {image}\")\n",
    "\n",
    "    frame = cv2.imread(image)\n",
    "\n",
    "    vehicle_mask = np.zeros(frame.shape[:2], dtype=np.uint8)\n",
    "    original_frame = frame.copy()\n",
    "\n",
    "    # Deteksi kendaraan\n",
    "    vehicle_results = YoloModelVehicle(frame)\n",
    "\n",
    "    for vehicle in vehicle_results:\n",
    "            for box in vehicle.boxes:\n",
    "                x1, y1, x2, y2 = map(int, box.xyxy[0].numpy())\n",
    "                class_id = int(box.cls[0])\n",
    "                confidence = box.conf[0]\n",
    "\n",
    "                if class_id in [2, 3, 5, 7] and confidence > 0.50:\n",
    "\n",
    "                    f_image_box_license_2(frame, x1, x2, y1, y2, confidence)\n",
    "\n",
    "                    f_image_read(image1=original_frame, title1=\"Original\", image2=frame, title2=\"Object Box\")"
   ]
  }
 ],
 "metadata": {
  "kernelspec": {
   "display_name": ".venv",
   "language": "python",
   "name": "python3"
  },
  "language_info": {
   "codemirror_mode": {
    "name": "ipython",
    "version": 3
   },
   "file_extension": ".py",
   "mimetype": "text/x-python",
   "name": "python",
   "nbconvert_exporter": "python",
   "pygments_lexer": "ipython3",
   "version": "3.12.3"
  }
 },
 "nbformat": 4,
 "nbformat_minor": 5
}
