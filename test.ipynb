{
 "cells": [
  {
   "cell_type": "code",
   "execution_count": 5,
   "id": "7a7fab3b",
   "metadata": {},
   "outputs": [
    {
     "name": "stdout",
     "output_type": "stream",
     "text": [
      "Small\n",
      "Nano\n",
      "Medium\n",
      "Balance\n",
      "Large\n",
      "Extra Large\n"
     ]
    }
   ],
   "source": [
    "yolo_model = [\n",
    "    {\"version\": \"Small\", \"object\":\"yolov10s\", \"license_plat\":\"best_yolov10s_licenseplat\"},\n",
    "    {\"version\": \"Nano\", \"object\":\"yolov10n\", \"license_plat\":\"best_yolov10n_licenseplat\"},\n",
    "    {\"version\": \"Medium\", \"object\":\"yolov10m\", \"license_plat\":\"best_yolov10m_licenseplat\"},\n",
    "    {\"version\": \"Balance\", \"object\":\"yolov10b\", \"license_plat\":\"best_yolov10b_licenseplat\"},\n",
    "    {\"version\": \"Large\", \"object\":\"yolov10l\", \"license_plat\":\"best_yolov10l_licenseplat\"},\n",
    "    {\"version\": \"Extra Large\", \"object\":\"yolov10x\", \"license_plat\":\"best_yolov10x_licenseplat\"},\n",
    "]\n",
    "\n",
    "# print(f\"yolo : {yolo_model}\")\n",
    "\n",
    "for i in yolo_model:\n",
    "    # print(f\"{i}\")\n",
    "    print(f\"{i[\"version\"]}\")"
   ]
  }
 ],
 "metadata": {
  "kernelspec": {
   "display_name": ".venv",
   "language": "python",
   "name": "python3"
  },
  "language_info": {
   "codemirror_mode": {
    "name": "ipython",
    "version": 3
   },
   "file_extension": ".py",
   "mimetype": "text/x-python",
   "name": "python",
   "nbconvert_exporter": "python",
   "pygments_lexer": "ipython3",
   "version": "3.12.0"
  }
 },
 "nbformat": 4,
 "nbformat_minor": 5
}
