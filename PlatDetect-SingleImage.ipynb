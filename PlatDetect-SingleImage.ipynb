{
 "cells": [
  {
   "cell_type": "code",
   "execution_count": null,
   "id": "990d2750",
   "metadata": {},
   "outputs": [
    {
     "name": "stdout",
     "output_type": "stream",
     "text": [
      "[2025/07/07 23:47:03] ppocr DEBUG: Namespace(help='==SUPPRESS==', use_gpu=False, use_xpu=False, use_npu=False, use_mlu=False, use_gcu=False, ir_optim=True, use_tensorrt=False, min_subgraph_size=15, precision='fp32', gpu_mem=500, gpu_id=0, image_dir=None, page_num=0, det_algorithm='DB', det_model_dir='C:\\\\Users\\\\susil/.paddleocr/whl\\\\det\\\\en\\\\en_PP-OCRv3_det_infer', det_limit_side_len=960, det_limit_type='max', det_box_type='quad', det_db_thresh=0.3, det_db_box_thresh=0.6, det_db_unclip_ratio=1.5, max_batch_size=10, use_dilation=False, det_db_score_mode='fast', det_east_score_thresh=0.8, det_east_cover_thresh=0.1, det_east_nms_thresh=0.2, det_sast_score_thresh=0.5, det_sast_nms_thresh=0.2, det_pse_thresh=0, det_pse_box_thresh=0.85, det_pse_min_area=16, det_pse_scale=1, scales=[8, 16, 32], alpha=1.0, beta=1.0, fourier_degree=5, rec_algorithm='SVTR_LCNet', rec_model_dir='C:\\\\Users\\\\susil/.paddleocr/whl\\\\rec\\\\en\\\\en_PP-OCRv4_rec_infer', rec_image_inverse=True, rec_image_shape='3, 48, 320', rec_batch_num=6, max_text_length=25, rec_char_dict_path='d:\\\\Mine\\\\UNPAM\\\\THESIS\\\\VehicleDetection\\\\.venv\\\\Lib\\\\site-packages\\\\paddleocr\\\\ppocr\\\\utils\\\\en_dict.txt', use_space_char=True, vis_font_path='./doc/fonts/simfang.ttf', drop_score=0.5, e2e_algorithm='PGNet', e2e_model_dir=None, e2e_limit_side_len=768, e2e_limit_type='max', e2e_pgnet_score_thresh=0.5, e2e_char_dict_path='./ppocr/utils/ic15_dict.txt', e2e_pgnet_valid_set='totaltext', e2e_pgnet_mode='fast', use_angle_cls=True, cls_model_dir='C:\\\\Users\\\\susil/.paddleocr/whl\\\\cls\\\\ch_ppocr_mobile_v2.0_cls_infer', cls_image_shape='3, 48, 192', label_list=['0', '180'], cls_batch_num=6, cls_thresh=0.9, enable_mkldnn=False, cpu_threads=10, use_pdserving=False, warmup=False, sr_model_dir=None, sr_image_shape='3, 32, 128', sr_batch_num=1, draw_img_save_dir='./inference_results', save_crop_res=False, crop_res_save_dir='./output', use_mp=False, total_process_num=1, process_id=0, benchmark=False, save_log_path='./log_output/', show_log=True, use_onnx=False, onnx_providers=False, onnx_sess_options=False, return_word_box=False, output='./output', table_max_len=488, table_algorithm='TableAttn', table_model_dir=None, merge_no_span_structure=True, table_char_dict_path=None, formula_algorithm='LaTeXOCR', formula_model_dir=None, formula_char_dict_path=None, formula_batch_num=1, layout_model_dir=None, layout_dict_path=None, layout_score_threshold=0.5, layout_nms_threshold=0.5, kie_algorithm='LayoutXLM', ser_model_dir=None, re_model_dir=None, use_visual_backbone=True, ser_dict_path='../train_data/XFUND/class_list_xfun.txt', ocr_order_method=None, mode='structure', image_orientation=False, layout=True, table=True, formula=False, ocr=True, recovery=False, recovery_to_markdown=False, use_pdf2docx_api=False, invert=False, binarize=False, alphacolor=(255, 255, 255), lang='en', det=True, rec=True, type='ocr', savefile=False, ocr_version='PP-OCRv4', structure_version='PP-StructureV2')\n",
      "\n",
      "0: 640x640 (no detections), 104.9ms\n",
      "Speed: 4.8ms preprocess, 104.9ms inference, 0.3ms postprocess per image at shape (1, 3, 640, 640)\n"
     ]
    }
   ],
   "source": [
    "import cv2\n",
    "import torch\n",
    "import os\n",
    "from paddleocr import PaddleOCR\n",
    "from ultralytics import YOLO\n",
    "import numpy as np\n",
    "from datetime import datetime\n",
    "from Model.imageProcess import f_image_read, f_image_preprocessing_010, prepare_plate_image, prepare_for_plate_detection, f_save_image, f_imagesingle_read, f_image_box, f_image_box_license, f_image_box_license_2\n",
    "from Model.generalProcess import f_remove_special_char\n",
    "from Model.ocrProcess import f_ocr_process\n",
    "from Model.sqlProcess import f_sql_savePlateIdentification\n",
    "\n",
    "# Inisialisasi OCR dan Model YOLO\n",
    "ocr = PaddleOCR(use_angle_cls=True, lang='en')\n",
    "YoloModelVehicle = YOLO(\"Yolo/yolov10m.pt\")\n",
    "YoloModelLicenseNumber = YOLO(\"Yolo/best.pt\")\n",
    "\n",
    "image_path = \"DataTraining/PlatNomor/Plat (169).jpg\"\n",
    "\n",
    "frame = cv2.imread(image_path)\n",
    "\n",
    "# f_image_read(image1=frame, title1=\"original\", image2=frame, title2=\"plat\")\n",
    "\n",
    "original_frame = frame.copy()\n",
    "\n",
    "license_plate_results = YoloModelLicenseNumber(original_frame)\n",
    "\n",
    "for result in license_plate_results:\n",
    "    for lp_box in result.boxes:\n",
    "        lx1, ly1, lx2, ly2 = map(int, lp_box.xyxy[0].numpy())\n",
    "        lp_conf = lp_box.conf[0]\n",
    "\n",
    "        frame = f_image_box(frame, lx1, lx2, ly1, ly2, \"\")\n",
    "\n",
    "        f_image_read(image1=original_frame, title1=\"original\", image2=frame, title2=\"plat\")\n",
    "\n",
    "\n"
   ]
  }
 ],
 "metadata": {
  "kernelspec": {
   "display_name": ".venv",
   "language": "python",
   "name": "python3"
  },
  "language_info": {
   "codemirror_mode": {
    "name": "ipython",
    "version": 3
   },
   "file_extension": ".py",
   "mimetype": "text/x-python",
   "name": "python",
   "nbconvert_exporter": "python",
   "pygments_lexer": "ipython3",
   "version": "3.12.3"
  }
 },
 "nbformat": 4,
 "nbformat_minor": 5
}
