{
 "cells": [
  {
   "cell_type": "code",
   "execution_count": null,
   "id": "06b400b4",
   "metadata": {},
   "outputs": [],
   "source": [
    "import pandas as pd\n",
    "import pyodbc\n",
    "import os\n",
    "\n",
    "# Ganti sesuai konfigurasi Anda\n",
    "server = os.getenv('db_server')\n",
    "database = os.getenv('db_name')\n",
    "username = os.getenv('db_userid')\n",
    "password = os.getenv('bd_userpwd')\n",
    "table_name = 'TransVehiceLicense'\n",
    "\n",
    "# Path ke file CSV\n",
    "csv_file_path = 'plate_results.csv'\n",
    "\n",
    "# Membaca CSV dengan delimiter titik koma\n",
    "df = pd.read_csv(csv_file_path, delimiter=';')"
   ]
  },
  {
   "cell_type": "code",
   "execution_count": null,
   "id": "2a4a3e76",
   "metadata": {},
   "outputs": [],
   "source": [
    "print(f\"{df}\")"
   ]
  },
  {
   "cell_type": "code",
   "execution_count": null,
   "id": "25dea719",
   "metadata": {},
   "outputs": [],
   "source": [
    "for index, row in df.iterrows():\n",
    "    data = tuple(row)\n",
    "\n",
    "    print(data)"
   ]
  }
 ],
 "metadata": {
  "kernelspec": {
   "display_name": ".venv",
   "language": "python",
   "name": "python3"
  },
  "language_info": {
   "codemirror_mode": {
    "name": "ipython",
    "version": 3
   },
   "file_extension": ".py",
   "mimetype": "text/x-python",
   "name": "python",
   "nbconvert_exporter": "python",
   "pygments_lexer": "ipython3",
   "version": "3.12.3"
  }
 },
 "nbformat": 4,
 "nbformat_minor": 5
}
