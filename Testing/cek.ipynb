{
 "cells": [
  {
   "cell_type": "code",
   "execution_count": 11,
   "id": "0a057326",
   "metadata": {},
   "outputs": [],
   "source": [
    "def correct_ocr_plate_dynamic(plate):\n",
    "    if not plate:\n",
    "        return plate\n",
    "\n",
    "    # Peta koreksi karakter OCR yang sering salah\n",
    "    ocr_correction_map = {\n",
    "        '0': 'O',\n",
    "        '1': 'I',\n",
    "        '2': 'Z',\n",
    "        '5': 'S',\n",
    "        '8': 'B'\n",
    "    }\n",
    "\n",
    "    # Mulai dari belakang dan cari karakter terakhir yang bukan huruf\n",
    "    i = len(plate) - 1\n",
    "    while i >= 0 and (plate[i].isalpha() or plate[i].isdigit()):\n",
    "        i -= 1\n",
    "\n",
    "    # Bagian depan = sebelum i+1, bagian belakang (kemungkinan huruf) = setelah i\n",
    "    number_part = plate[:i+1]\n",
    "    letter_part = plate[i+1:]\n",
    "\n",
    "    # Koreksi hanya di letter_part\n",
    "    corrected_letter_part = ''.join(ocr_correction_map.get(ch, ch) for ch in letter_part)\n",
    "\n",
    "    return number_part + corrected_letter_part\n"
   ]
  },
  {
   "cell_type": "code",
   "execution_count": null,
   "id": "27df368e",
   "metadata": {},
   "outputs": [],
   "source": [
    "def correct_ocr_plate(plate):\n",
    "    ocr_correction_map = {\n",
    "    '0': 'O',\n",
    "    '1': 'I',\n",
    "    '5': 'S',\n",
    "    '8': 'B',\n",
    "    '2': 'Z'\n",
    "    }\n",
    "    # Koreksi hanya di 2 karakter terakhir\n",
    "    if len(plate) >= 2:\n",
    "        corrected = ''\n",
    "        for char in plate[-2:]:\n",
    "            if char in ocr_correction_map:\n",
    "                corrected += ocr_correction_map[char]\n",
    "            else:\n",
    "                corrected += char\n",
    "        plate = plate[:-2] + corrected\n",
    "    return plate\n"
   ]
  },
  {
   "cell_type": "code",
   "execution_count": 23,
   "id": "3911d6b8",
   "metadata": {},
   "outputs": [
    {
     "data": {
      "text/plain": [
       "'A1206IYV'"
      ]
     },
     "execution_count": 23,
     "metadata": {},
     "output_type": "execute_result"
    }
   ],
   "source": [
    "correct_ocr_plate('A12061YV')\n"
   ]
  },
  {
   "cell_type": "code",
   "execution_count": 16,
   "id": "697ddd00",
   "metadata": {},
   "outputs": [
    {
     "data": {
      "text/plain": [
       "'AIZO6YV'"
      ]
     },
     "execution_count": 16,
     "metadata": {},
     "output_type": "execute_result"
    }
   ],
   "source": [
    "correct_ocr_plate_dynamic('A1206YV')\n"
   ]
  },
  {
   "cell_type": "code",
   "execution_count": 15,
   "id": "d6310266",
   "metadata": {},
   "outputs": [
    {
     "name": "stdout",
     "output_type": "stream",
     "text": [
      "\n"
     ]
    }
   ],
   "source": [
    "text = \"DataVideo\\\\\"\n",
    "clean_text = text.replace(\"DataVideo\\\\\", '')\n",
    "print(clean_text)\n"
   ]
  }
 ],
 "metadata": {
  "kernelspec": {
   "display_name": ".venv",
   "language": "python",
   "name": "python3"
  },
  "language_info": {
   "codemirror_mode": {
    "name": "ipython",
    "version": 3
   },
   "file_extension": ".py",
   "mimetype": "text/x-python",
   "name": "python",
   "nbconvert_exporter": "python",
   "pygments_lexer": "ipython3",
   "version": "3.12.3"
  }
 },
 "nbformat": 4,
 "nbformat_minor": 5
}
