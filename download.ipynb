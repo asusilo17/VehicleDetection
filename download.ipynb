{
 "cells": [
  {
   "cell_type": "code",
   "execution_count": null,
   "id": "0c6a13d5",
   "metadata": {},
   "outputs": [],
   "source": [
    "from roboflow import Roboflow\n",
    "rf = Roboflow(api_key=\"izsLwCxgeoDU4OqKzuQr\")\n",
    "project = rf.workspace(\"shadow-soplm\").project(\"dataset-license-plate-number\")\n",
    "version = project.version(4)\n",
    "dataset = version.download(\"yolov11\")\n",
    "                "
   ]
  },
  {
   "cell_type": "code",
   "execution_count": null,
   "id": "b0b457d5",
   "metadata": {},
   "outputs": [],
   "source": [
    "!cd DataTraining/"
   ]
  },
  {
   "cell_type": "code",
   "execution_count": null,
   "id": "c45d3817",
   "metadata": {},
   "outputs": [],
   "source": [
    "# !pip install roboflow\n",
    "\n",
    "from roboflow import Roboflow\n",
    "rf = Roboflow(api_key=\"izsLwCxgeoDU4OqKzuQr\")\n",
    "project = rf.workspace(\"imk-hpy1c\").project(\"plate-number-u99zj\")\n",
    "version = project.version(1)\n",
    "dataset = version.download(\"yolov11\")\n",
    "                "
   ]
  },
  {
   "cell_type": "code",
   "execution_count": null,
   "id": "dd905947",
   "metadata": {},
   "outputs": [],
   "source": [
    "# !pip install roboflow\n",
    "\n",
    "from roboflow import Roboflow\n",
    "rf = Roboflow(api_key=\"izsLwCxgeoDU4OqKzuQr\")\n",
    "project = rf.workspace(\"ubaidillah\").project(\"kendaraan-9nepm\")\n",
    "version = project.version(1)\n",
    "dataset = version.download(\"yolov11\")\n",
    "                "
   ]
  }
 ],
 "metadata": {
  "kernelspec": {
   "display_name": ".venv",
   "language": "python",
   "name": "python3"
  },
  "language_info": {
   "codemirror_mode": {
    "name": "ipython",
    "version": 3
   },
   "file_extension": ".py",
   "mimetype": "text/x-python",
   "name": "python",
   "nbconvert_exporter": "python",
   "pygments_lexer": "ipython3",
   "version": "3.12.3"
  }
 },
 "nbformat": 4,
 "nbformat_minor": 5
}
