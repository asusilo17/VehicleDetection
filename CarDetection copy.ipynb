{
 "cells": [
  {
   "cell_type": "code",
   "execution_count": null,
   "id": "145dd718",
   "metadata": {},
   "outputs": [],
   "source": [
    "import cv2\n",
    "import torch\n",
    "from ultralytics import YOLO\n",
    "import numpy as np\n",
    "from datetime import datetime\n",
    "import os\n",
    "import glob\n",
    "from Model.imageProcess import f_image_read, f_image_preprocessing_010, f_save_image, f_imagesingle_read, f_image_box, f_image_box_license, f_image_box_license_2\n",
    "from Model.sqlProcess import f_sql_object_detection\n",
    "\n",
    "yolo_model = \"yolo11x.pt\"\n",
    "YoloModelVehicle = YOLO(f\"Yolo/{yolo_model}\")\n",
    "# Dapatkan mapping dari ID kelas ke nama kelas\n",
    "class_names = YoloModelVehicle.names\n",
    "\n",
    "# print(f\"vehicle_results : {YoloModelVehicle.names}\")\n",
    "\n",
    "image_folder = 'Dataset\\Vehicle'\n",
    "image_files = glob.glob(os.path.join(image_folder, '*.jpg'))\n",
    "\n",
    "for image in image_files:\n",
    "    tanggal_start = datetime.today()\n",
    "    print(f\"image : {image}\")\n",
    "\n",
    "    frame = cv2.imread(image)\n",
    "\n",
    "    vehicle_mask = np.zeros(frame.shape[:2], dtype=np.uint8)\n",
    "    original_frame = frame.copy()\n",
    "\n",
    "    # Deteksi kendaraan\n",
    "    vehicle_results = YoloModelVehicle(frame)\n",
    "\n",
    "    # print(f\"vehicle_results : {vehicle_results}\")\n",
    "    for vehicle in vehicle_results:\n",
    "        # print(f\"vehicle : {vehicle.boxes}\")\n",
    "        for box in vehicle.boxes:\n",
    "            # print(f\"box : {box}\")\n",
    "\n",
    "            x1, y1, x2, y2 = map(int, box.xyxy[0].numpy())\n",
    "\n",
    "            # print(f\"box.cls[0] : {box.cls[0]}\")\n",
    "\n",
    "            class_id = int(box.cls[0])\n",
    "            confidence = box.conf[0]\n",
    "\n",
    "            if class_id in [2, 3, 5, 7] and confidence > 0.00:\n",
    "                detected_class_label = class_names[class_id]\n",
    "\n",
    "                # f_image_box(frame, x1, x2, y1, y2, \"\")\n",
    "\n",
    "        # f_image_read(image1=original_frame, title1=f\"{image} Original\", image2=frame, title2=\"Object Box\")\n",
    "\n",
    "                tanggal_end = datetime.today()\n",
    "\n",
    "                f_sql_object_detection(p_label_name=image, \n",
    "                                       p_yolo_model=yolo_model, \n",
    "                                       p_object_type=detected_class_label, \n",
    "                                       p_confidence=confidence, \n",
    "                                       p_start_dt=tanggal_start.strftime(\"%Y-%m-%d %H:%M:%S\"), \n",
    "                                       p_end_dt=tanggal_end.strftime(\"%Y-%m-%d %H:%M:%S\"))"
   ]
  },
  {
   "cell_type": "code",
   "execution_count": null,
   "id": "c28f0fb6",
   "metadata": {},
   "outputs": [],
   "source": [
    "yolo_models = {'yolov10s.pt', 'yolov10n.pt', 'yolov10m.pt', 'yolov10b.pt', 'yolov10l.pt', 'yolov10x.pt', 'yolo11n.pt', 'yolo11s.pt', 'yolo11m.pt', 'yolo11l.pt', 'yolo11x.pt'}\n",
    "\n",
    "for model in yolo_models:\n",
    "    print(f\"model : {model}\") "
   ]
  }
 ],
 "metadata": {
  "kernelspec": {
   "display_name": ".venv",
   "language": "python",
   "name": "python3"
  },
  "language_info": {
   "codemirror_mode": {
    "name": "ipython",
    "version": 3
   },
   "file_extension": ".py",
   "mimetype": "text/x-python",
   "name": "python",
   "nbconvert_exporter": "python",
   "pygments_lexer": "ipython3",
   "version": "3.12.3"
  }
 },
 "nbformat": 4,
 "nbformat_minor": 5
}
