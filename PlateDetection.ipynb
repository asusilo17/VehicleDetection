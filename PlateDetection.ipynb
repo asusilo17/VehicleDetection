{
 "cells": [
  {
   "cell_type": "code",
   "execution_count": 1,
   "id": "4b40bd01",
   "metadata": {},
   "outputs": [],
   "source": [
    "from ultralytics import YOLO\n",
    "\n",
    "yolo_model = 'best.pt'\n",
    "model = YOLO(f\"Yolo/{yolo_model}\")"
   ]
  },
  {
   "cell_type": "code",
   "execution_count": 4,
   "id": "370929e8",
   "metadata": {},
   "outputs": [
    {
     "name": "stdout",
     "output_type": "stream",
     "text": [
      "{0: 'license'}\n",
      "YOLOv10n summary: 223 layers, 2,707,430 parameters, 0 gradients, 8.4 GFLOPs\n",
      "(223, 2707430, 0, 8.392959999999999)\n"
     ]
    }
   ],
   "source": [
    "print(f\"{model.names}\")\n",
    "\n",
    "print(f\"{model.info()}\")"
   ]
  }
 ],
 "metadata": {
  "kernelspec": {
   "display_name": ".venv",
   "language": "python",
   "name": "python3"
  },
  "language_info": {
   "codemirror_mode": {
    "name": "ipython",
    "version": 3
   },
   "file_extension": ".py",
   "mimetype": "text/x-python",
   "name": "python",
   "nbconvert_exporter": "python",
   "pygments_lexer": "ipython3",
   "version": "3.12.3"
  }
 },
 "nbformat": 4,
 "nbformat_minor": 5
}
